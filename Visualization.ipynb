{
 "cells": [
  {
   "cell_type": "markdown",
   "id": "bf6f2348-73fa-49ea-8568-0f4b4b4bf5da",
   "metadata": {},
   "source": [
    "GOES 16/17 is available on Google Earth Enginer."
   ]
  },
  {
   "cell_type": "code",
   "execution_count": null,
   "id": "46aebabf-61aa-4d4a-b5d6-206ec5379e0a",
   "metadata": {},
   "outputs": [],
   "source": []
  }
 ],
 "metadata": {
  "kernelspec": {
   "display_name": "Python 3 (ipykernel)",
   "language": "python",
   "name": "python3"
  },
  "language_info": {
   "codemirror_mode": {
    "name": "ipython",
    "version": 3
   },
   "file_extension": ".py",
   "mimetype": "text/x-python",
   "name": "python",
   "nbconvert_exporter": "python",
   "pygments_lexer": "ipython3",
   "version": "3.10.8"
  }
 },
 "nbformat": 4,
 "nbformat_minor": 5
}
